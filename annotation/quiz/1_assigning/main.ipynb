{
 "cells": [
  {
   "metadata": {},
   "cell_type": "code",
   "source": [
    "import pandas as pd\n",
    "\n",
    "def read_data():\n",
    "    # read data\n",
    "    pre_webinar_applicants = pd.read_excel('inputs/pre_webinar_applicants.xlsx')\n",
    "    post_webinar_applicants = pd.read_excel('inputs/post_webinar_applicants.xlsx')\n",
    "    label_studio_applicants = pd.read_excel('inputs/label_studio_applicants.xlsx')\n",
    "\n",
    "    return pre_webinar_applicants, post_webinar_applicants, label_studio_applicants\n",
    "\n",
    "def pre_process(pre_webinar_applicants, post_webinar_applicants, label_studio_applicants):\n",
    "    pre_webinar_applicants.rename(columns={'EPosta':'email'}, inplace=True)\n",
    "    post_webinar_applicants.rename(columns={'E-Posta Adresiniz':'email'}, inplace=True)\n",
    "    label_studio_applicants.rename(columns={'label_studio_mail':'email'}, inplace=True)\n",
    "    \n",
    "    pre_webinar_applicants['email'] = pre_webinar_applicants['email'].str.strip()\n",
    "    post_webinar_applicants['email'] = post_webinar_applicants['email'].str.strip()\n",
    "    label_studio_applicants['email'] = label_studio_applicants['email'].str.strip()\n",
    "    \n",
    "    pre_webinar_applicants['email'] = pre_webinar_applicants['email'].str.lower()\n",
    "    post_webinar_applicants['email'] = post_webinar_applicants['email'].str.lower()\n",
    "    label_studio_applicants['email'] = label_studio_applicants['email'].str.lower()\n",
    "    \n",
    "    return pre_webinar_applicants, post_webinar_applicants, label_studio_applicants\n",
    "\n",
    "pre_webinar_applicants, post_webinar_applicants, label_studio_applicants = read_data()\n",
    "pre_webinar_applicants, post_webinar_applicants, label_studio_applicants = pre_process(pre_webinar_applicants, post_webinar_applicants, label_studio_applicants)"
   ],
   "id": "9a85515b07dea5ad",
   "outputs": [],
   "execution_count": null
  },
  {
   "metadata": {},
   "cell_type": "code",
   "source": [
    "merged_post_label = pd.merge(post_webinar_applicants, label_studio_applicants, on='email', how='inner')\n",
    "merged_post_label.drop_duplicates(subset='email', inplace=True)\n",
    "merged_all = pd.merge(pre_webinar_applicants, merged_post_label, on='email', how='inner')\n",
    "merged_all.drop_duplicates(subset='email', inplace=True)\n",
    "merged_post_label_mails = merged_post_label['email'].tolist()\n",
    "merged_all_mails = merged_all['email'].tolist()\n",
    "diff = list(set(merged_post_label_mails) - set(merged_all_mails))\n",
    "print('difference:', diff)"
   ],
   "id": "fdd4313a705d60f1",
   "outputs": [],
   "execution_count": null
  },
  {
   "metadata": {},
   "cell_type": "code",
   "source": [
    "# save data\n",
    "merged_all.to_excel('outputs/merged_all.xlsx', index=False)\n",
    "merged_post_label.to_excel('outputs/merged_post_label.xlsx', index=False)"
   ],
   "id": "d7830a0350aa5f61",
   "outputs": [],
   "execution_count": null
  },
  {
   "metadata": {},
   "cell_type": "code",
   "source": "",
   "id": "23207e9a9098058",
   "outputs": [],
   "execution_count": null
  }
 ],
 "metadata": {
  "kernelspec": {
   "display_name": "Python 3",
   "language": "python",
   "name": "python3"
  },
  "language_info": {
   "codemirror_mode": {
    "name": "ipython",
    "version": 2
   },
   "file_extension": ".py",
   "mimetype": "text/x-python",
   "name": "python",
   "nbconvert_exporter": "python",
   "pygments_lexer": "ipython2",
   "version": "2.7.6"
  }
 },
 "nbformat": 4,
 "nbformat_minor": 5
}
