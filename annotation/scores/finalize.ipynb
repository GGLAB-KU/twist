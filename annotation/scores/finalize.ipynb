{
 "cells": [
  {
   "cell_type": "code",
   "id": "initial_id",
   "metadata": {
    "collapsed": true
   },
   "source": [
    "import pandas as pd\n",
    "import os\n",
    "import glob\n",
    "\n",
    "# Define the path to the 'outputs' directory\n",
    "outputs_dir = 'results'\n",
    "\n",
    "# Use glob to match all CSV files in the directory\n",
    "csv_files = glob.glob(os.path.join(outputs_dir, '*.csv'))\n",
    "\n",
    "# Check if any CSV files are found\n",
    "if not csv_files:\n",
    "    print(\"No CSV files found in the 'outputs' directory.\")\n",
    "    exit()\n",
    "\n",
    "# Initialize a list to hold individual DataFrames\n",
    "dataframes = []\n",
    "\n",
    "# Loop through the list of CSV files and read each into a DataFrame\n",
    "for file in csv_files:\n",
    "    try:\n",
    "        df = pd.read_csv(file)\n",
    "        dataframes.append(df)\n",
    "        print(f\"Loaded {file} successfully.\")\n",
    "    except Exception as e:\n",
    "        print(f\"Error reading {file}: {e}\")\n",
    "\n",
    "# Concatenate all DataFrames\n",
    "combined_df = pd.concat(dataframes, ignore_index=True)\n",
    "\n",
    "# Define the output file path\n",
    "output_file = 'combined_output.csv'\n",
    "\n",
    "# Save the combined DataFrame to a new CSV file\n",
    "combined_df.to_csv(output_file, index=False)\n",
    "\n",
    "print(f\"All CSV files have been concatenated and saved as {output_file}\")\n"
   ],
   "outputs": [],
   "execution_count": null
  }
 ],
 "metadata": {
  "kernelspec": {
   "display_name": "Python 3",
   "language": "python",
   "name": "python3"
  },
  "language_info": {
   "codemirror_mode": {
    "name": "ipython",
    "version": 2
   },
   "file_extension": ".py",
   "mimetype": "text/x-python",
   "name": "python",
   "nbconvert_exporter": "python",
   "pygments_lexer": "ipython2",
   "version": "2.7.6"
  }
 },
 "nbformat": 4,
 "nbformat_minor": 5
}
