{
 "cells": [
  {
   "cell_type": "code",
   "outputs": [],
   "source": [
    "# import pandas as pd\n",
    "# import numpy as np\n",
    "\n",
    "# input_file = 'terms/merged/merged.csv'\n",
    "# df = pd.read_csv(input_file)\n",
    "# def normalize_term(term):\n",
    "#     \"\"\"Normalize special characters in a term and return its URL part.\"\"\"\n",
    "#     replacements = {\"â\": \"a\", 'ç': 'c', 'ğ': 'g', 'ı': 'i', 'ö': 'o', 'ş': 's', 'ü': 'u', 'Ç': 'C', 'Ğ': 'G', 'İ': 'I',\n",
    "#                     'Ö': 'O', 'Ş': 'S', 'Ü': 'U', \"'\": \"\", \"’\": \"\", }\n",
    "#     # replace all punctiation with empty string\n",
    "#     term = term.translate(str.maketrans('', '', '!\"#$%&\\'()*+,-./:;<=>?@[\\\\]^_`{|}~'))\n",
    "#     out = ''.join(replacements.get(c, c) for c in term).lower().replace(' ', '')\n",
    "#     # if last character exist and is 's'\n",
    "#     if len(out) > 0 and out[-1] == 's':\n",
    "#         out = out[:-1]\n",
    "#     return out\n",
    "# # remove NaNs\n",
    "# df = df.fillna('')\n",
    "# df['normalized_name'] = df['name'].apply(normalize_term)\n",
    "# df['normalized_tr_title'] = df['tr_title'].apply(normalize_term)\n",
    "# df['normalized_en'] = df['en'].apply(normalize_term)\n",
    "# df['normalized_en_title'] = df['en_title'].apply(normalize_term)\n",
    "# df['new_category'] = [0.0] * len(df)\n",
    "# df.loc[(df['en_exists'] == False) & (df['tr_exists'] == False), 'new_category'] = 1.0\n",
    "# df.loc[df['id'] == 3278, 'new_category'] = 1.0\n",
    "# df.loc[(df['en_exists'] == True) & (df['normalized_en'] == df['normalized_en_title']) & (df['tr_exists'] == False), 'new_category'] = 2.0\n",
    "# df.loc[(df['en_exists'] == True) & (df['normalized_en'] != df['normalized_en_title']), 'new_category'] = 1.0\n",
    "# \n",
    "# df.loc[(df['en_exists'] == True) & (df['tr_exists'] == True) & (df['normalized_en'] == df['normalized_en_title']) & (df['normalized_name'] == df['normalized_tr_title']), 'new_category'] = 3.1\n",
    "# df.loc[(df['en_exists'] == True) & (df['tr_exists'] == True) & (df['normalized_en'] == df['normalized_en_title']) & (df['normalized_name'] != df['normalized_tr_title']), 'new_category'] = 3.2\n",
    "# df.loc[(df['en_exists'] == True) & (df['tr_exists'] == True) & (df['normalized_en_title'] == df['normalized_tr_title']), 'new_category'] = 1.0\n",
    "# # if df['new_category'] == 1.0: fill following columns with NaN: en_page_id, en_title, en_fullurl, en_length, en_summary, tr_page_id, tr_title, tr_fullurl, tr_length, tr_summary also fill en_exists and tr_exists with False\n",
    "# \n",
    "# df.loc[df['new_category'] == 1.0, 'en_pageid'] = np.nan\n",
    "# df.loc[df['new_category'] == 1.0, 'en_title'] = np.nan\n",
    "# df.loc[df['new_category'] == 1.0, 'en_fullurl'] = np.nan\n",
    "# df.loc[df['new_category'] == 1.0, 'en_length'] = np.nan\n",
    "# df.loc[df['new_category'] == 1.0, 'en_summary'] = np.nan\n",
    "# df.loc[df['new_category'] == 1.0, 'en_exists'] = False\n",
    "# \n",
    "# \n",
    "# df.loc[df['new_category'] == 1.0, 'tr_pageid'] = np.nan\n",
    "# df.loc[df['new_category'] == 1.0, 'tr_title'] = np.nan\n",
    "# df.loc[df['new_category'] == 1.0, 'tr_fullurl'] = np.nan\n",
    "# df.loc[df['new_category'] == 1.0, 'tr_length'] = np.nan\n",
    "# df.loc[df['new_category'] == 1.0, 'tr_summary'] = np.nan\n",
    "# df.loc[df['new_category'] == 1.0, 'tr_exists'] = False\n",
    "# \n",
    "# \n",
    "# # if df['new_category'] == 2.0: fill following columns with NaN: tr_page_id, tr_title, tr_fullurl, tr_length, tr_summary also fill tr_exists with False\n",
    "# df.loc[df['new_category'] == 2.0, 'tr_pageid'] = np.nan\n",
    "# df.loc[df['new_category'] == 2.0, 'tr_title'] = np.nan\n",
    "# df.loc[df['new_category'] == 2.0, 'tr_fullurl'] = np.nan\n",
    "# df.loc[df['new_category'] == 2.0, 'tr_length'] = np.nan\n",
    "# df.loc[df['new_category'] == 2.0, 'tr_summary'] = np.nan\n",
    "# df.loc[df['new_category'] == 2.0, 'tr_exists'] = False\n",
    "# \n",
    "# # df['category'] becomes df['new_category']\n",
    "# df['category'] = df['new_category']\n",
    "# # drop df['new_category']\n",
    "# df = df.drop(columns=['new_category'])\n",
    "# # 'en_exists' and 'tr_exists' are boolean, convert them to int\n",
    "# df['en_exists'] = df['en_exists'].astype(int)\n",
    "# df['tr_exists'] = df['tr_exists'].astype(int)\n",
    "# \n",
    "# \n",
    "# # fill empty cells with NaN\n",
    "# df = df.replace('', np.nan)\n",
    "# # fill NaNs empty cells\n",
    "# df = df.fillna('')\n",
    "# \n",
    "# # save \n",
    "# df.to_csv('terms/final/final_one2one.csv', index=False)\n",
    "# df.to_excel('terms/final/final_one2one.xlsx', index=False)"
   ],
   "metadata": {
    "collapsed": false,
    "ExecuteTime": {
     "end_time": "2024-03-03T21:16:36.381723Z",
     "start_time": "2024-03-03T21:16:35.833444Z"
    }
   },
   "id": "4044e885470ca535",
   "execution_count": 2
  },
  {
   "cell_type": "code",
   "outputs": [],
   "source": [],
   "metadata": {
    "collapsed": false,
    "ExecuteTime": {
     "end_time": "2024-03-03T21:16:43.773404Z",
     "start_time": "2024-03-03T21:16:43.772108Z"
    }
   },
   "id": "bebce6db4b2da7a0",
   "execution_count": 3
  },
  {
   "cell_type": "markdown",
   "source": [],
   "metadata": {
    "collapsed": false
   },
   "id": "ce427c0a4219ca7"
  }
 ],
 "metadata": {
  "kernelspec": {
   "display_name": "Python 3",
   "language": "python",
   "name": "python3"
  },
  "language_info": {
   "codemirror_mode": {
    "name": "ipython",
    "version": 2
   },
   "file_extension": ".py",
   "mimetype": "text/x-python",
   "name": "python",
   "nbconvert_exporter": "python",
   "pygments_lexer": "ipython2",
   "version": "2.7.6"
  }
 },
 "nbformat": 4,
 "nbformat_minor": 5
}
