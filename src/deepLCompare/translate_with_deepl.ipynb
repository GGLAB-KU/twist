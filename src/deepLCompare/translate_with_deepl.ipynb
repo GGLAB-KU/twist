{
 "cells": [
  {
   "cell_type": "code",
   "id": "initial_id",
   "metadata": {
    "collapsed": true,
    "ExecuteTime": {
     "end_time": "2024-07-11T18:33:49.512773Z",
     "start_time": "2024-07-11T18:29:23.067691Z"
    }
   },
   "source": [
    "import pandas as pd\n",
    "import ast\n",
    "from langdetect import detect, DetectorFactory\n",
    "import deepl\n",
    "\n",
    "# Ensure consistent results from langdetect\n",
    "DetectorFactory.seed = 0\n",
    "\n",
    "# Read CSV data\n",
    "df = pd.read_csv('src/deepLCompare/filtered.csv')\n",
    "\n",
    "# Convert 'translation_json' column to dictionaries once\n",
    "df['translation_json'] = df['translation_json'].apply(ast.literal_eval)\n",
    "\n",
    "# Function to process each translation_json entry\n",
    "def process_translation_json(translation_dict):\n",
    "    data_for_df = [\n",
    "        {\n",
    "            'id': f\"{key}_{value['sequenceid']}\",\n",
    "            'mt_content': value['mt']['content'] if value.get('mt') else None,\n",
    "            'source_content': value['source']['content'] if value.get('source') else None,\n",
    "            'user_content': value['user']['content'] if value.get('user') else None\n",
    "        }\n",
    "        for key, value in translation_dict.items()\n",
    "        if value.get('user')  # Ensure user_content is not None\n",
    "    ]\n",
    "    return pd.DataFrame(data_for_df)\n",
    "\n",
    "# Process each title in the DataFrame\n",
    "all_titles_df = [\n",
    "    process_translation_json(translation_json).assign(title=title)\n",
    "    for title in df['title'].unique()\n",
    "    for translation_json in df.loc[df['title'] == title, 'translation_json']\n",
    "]\n",
    "\n",
    "# Concatenate all processed DataFrames\n",
    "final_df = pd.concat(all_titles_df, ignore_index=True)\n",
    "\n",
    "# Filter out rows where source_content is equal to user_content\n",
    "edit = final_df[final_df['source_content'] != final_df['user_content']]\n",
    "\n",
    "# Function to detect if the user content is in English\n",
    "def is_english(content):\n",
    "    try:\n",
    "        return detect(content) == 'en'\n",
    "    except:\n",
    "        return False\n",
    "\n",
    "# Filter out rows where user_content is in English\n",
    "edit = edit[~edit['user_content'].apply(is_english)]\n",
    "\n",
    "# if user_content is under 45 words then remove it\n",
    "edit = edit[edit['user_content'].apply(lambda x: len(x.split()) >= 45)]\n",
    "\n",
    "\n",
    "# Replace with your DeepL auth key\n",
    "auth_key = \"b948ea92-bc0b-49b5-b953-9b3cfc79fab8:fx\"  \n",
    "translator = deepl.Translator(auth_key)\n",
    "\n",
    "\n",
    "# Function to translate a list of samples\n",
    "def translate_samples(content, target_lang=\"TR\"):\n",
    "    result = translator.translate_text(content, source_lang=\"EN\", target_lang=target_lang)\n",
    "    return result.text\n",
    "# Apply the translation to each row in the DataFrame\n",
    "edit['deepl'] = edit['user_content'].apply(translate_samples)\n"
   ],
   "outputs": [],
   "execution_count": 1
  },
  {
   "metadata": {
    "ExecuteTime": {
     "end_time": "2024-07-11T18:34:46.275577Z",
     "start_time": "2024-07-11T18:34:46.239847Z"
    }
   },
   "cell_type": "code",
   "source": "edit.to_csv('src/deepLCompare/deepl_vs_human.csv', index=False)",
   "id": "865e339f4403bde7",
   "outputs": [],
   "execution_count": 3
  },
  {
   "metadata": {},
   "cell_type": "code",
   "outputs": [],
   "execution_count": null,
   "source": "",
   "id": "60e957bf9d6c2d56"
  }
 ],
 "metadata": {
  "kernelspec": {
   "display_name": "Python 3",
   "language": "python",
   "name": "python3"
  },
  "language_info": {
   "codemirror_mode": {
    "name": "ipython",
    "version": 2
   },
   "file_extension": ".py",
   "mimetype": "text/x-python",
   "name": "python",
   "nbconvert_exporter": "python",
   "pygments_lexer": "ipython2",
   "version": "2.7.6"
  }
 },
 "nbformat": 4,
 "nbformat_minor": 5
}
