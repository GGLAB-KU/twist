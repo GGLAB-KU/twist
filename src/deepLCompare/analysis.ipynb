{
 "cells": [
  {
   "cell_type": "code",
   "id": "initial_id",
   "metadata": {
    "collapsed": true,
    "ExecuteTime": {
     "end_time": "2024-07-11T19:05:11.526493Z",
     "start_time": "2024-07-11T19:05:11.524337Z"
    }
   },
   "source": "import pandas as pd",
   "outputs": [],
   "execution_count": 4
  },
  {
   "metadata": {
    "ExecuteTime": {
     "end_time": "2024-07-11T19:05:11.563589Z",
     "start_time": "2024-07-11T19:05:11.529002Z"
    }
   },
   "cell_type": "code",
   "source": [
    "import pandas as pd\n",
    "\n",
    "# Read the CSV file\n",
    "df = pd.read_csv('deepl_vs_human.csv')\n",
    "\n",
    "# Define CS titles\n",
    "cs_titles = [\n",
    "    \"Bayesian network\", \n",
    "    \"Black-box testing\", \n",
    "    \"Buffer overflow\",\n",
    "    \"Embedded software\",\n",
    "    \"Feature (machine learning)\", \n",
    "    \"Inductive logic programming\",\n",
    "    \"Malware\",\n",
    "    \"Recommender system\", \n",
    "    \"Vehicle routing problem\"\n",
    "]\n",
    "\n",
    "# Sort, check for equality, assign domains, and rename columns\n",
    "df = (df\n",
    "      .sort_values('title')\n",
    "      .assign(is_human_and_deepl_same=lambda x: x['user_content'] == x['deepl'],\n",
    "              domain=lambda x: x['title'].apply(lambda title: 'CS' if title in cs_titles else 'Others'))\n",
    "      .sort_values(['domain', 'title'])\n",
    "      .rename(columns={\n",
    "          'mt_content': 'yandex',\n",
    "          'source_content': 'source',\n",
    "          'user_content': 'human'\n",
    "      })[['id', 'title', 'is_human_and_deepl_same', 'source', 'human', 'deepl', 'yandex', 'domain']]\n",
    "     )\n"
   ],
   "id": "5066a0a0d0ce9dab",
   "outputs": [],
   "execution_count": 5
  },
  {
   "metadata": {
    "ExecuteTime": {
     "end_time": "2024-07-11T19:05:11.735670Z",
     "start_time": "2024-07-11T19:05:11.564976Z"
    }
   },
   "cell_type": "code",
   "source": [
    "# save this as xlsx file\n",
    "df.to_excel('final_deepl_vs_human.xlsx', index=False)"
   ],
   "id": "e8746cd61401a617",
   "outputs": [],
   "execution_count": 6
  }
 ],
 "metadata": {
  "kernelspec": {
   "display_name": "Python 3",
   "language": "python",
   "name": "python3"
  },
  "language_info": {
   "codemirror_mode": {
    "name": "ipython",
    "version": 2
   },
   "file_extension": ".py",
   "mimetype": "text/x-python",
   "name": "python",
   "nbconvert_exporter": "python",
   "pygments_lexer": "ipython2",
   "version": "2.7.6"
  }
 },
 "nbformat": 4,
 "nbformat_minor": 5
}
