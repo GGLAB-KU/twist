{
 "cells": [
  {
   "cell_type": "code",
   "execution_count": 1,
   "id": "initial_id",
   "metadata": {
    "collapsed": true,
    "ExecuteTime": {
     "end_time": "2024-03-11T15:33:27.581431Z",
     "start_time": "2024-03-11T15:33:27.269794Z"
    }
   },
   "outputs": [],
   "source": [
    "import pandas as pd"
   ]
  },
  {
   "cell_type": "code",
   "outputs": [],
   "source": [
    "df = pd.read_excel('/Users/aligebesce/PycharmProjects/wikimedia-mt-analysis/src/terimlervswiki/terms/terimler_org/terimler_org_all.xlsx')\n",
    "df = df[df['number_of_en'] != 0]\n",
    "en_terms = df['en'].values\n",
    "en_terms = [str(en) for en in en_terms]\n",
    "\n",
    "all_terms = []\n",
    "for en in en_terms:\n",
    "    if ';' in en:\n",
    "        en = en.split(';')\n",
    "        all_terms.extend(en)\n",
    "    else:\n",
    "        all_terms.append(en)\n",
    "\n",
    "# trim whitespaces at the beginning and end\n",
    "all_terms = [en.strip() for en in all_terms]\n",
    "\n",
    "# lower all the letters\n",
    "all_terms = [en.lower() for en in all_terms]\n",
    "\n",
    "# normalize all: \n",
    "def normalize_term(term):\n",
    "    \"\"\"Normalize special characters in a term and return its URL part.\"\"\"\n",
    "    replacements = {\"â\": \"a\", 'ç': 'c', 'ğ': 'g', 'ı': 'i', 'ö': 'o', 'ş': 's', 'ü': 'u', 'Ç': 'C', 'Ğ': 'G', 'İ': 'I',\n",
    "                    'Ö': 'O', 'Ş': 'S', 'Ü': 'U', \"'\": \"\", \"’\": \"\", }\n",
    "    # replace all punctiation with empty string\n",
    "    term = term.translate(str.maketrans('', '', '!\"#$%&\\'()*+,-./:;<=>?@[\\\\]^_`{|}~')).lower()\n",
    "    return term.translate(str.maketrans(replacements))\n",
    "\n",
    "all_terms = [normalize_term(en) for en in all_terms]\n",
    "all_terms = [term for term in all_terms if term != ' ' and term != '']\n",
    "all_terms = set(all_terms)\n",
    "\n",
    "# read the translation pairs\n",
    "translations_pairs = pd.read_excel('/Users/aligebesce/PycharmProjects/wikimedia-mt-analysis/src/translationpairs/mt_and_target_present.xlsx')\n",
    "# reverse the rows of the dataframe\n",
    "translations_pairs = translations_pairs.iloc[::-1]\n",
    "# drop nan values\n",
    "translations_pairs = translations_pairs.dropna(subset=['source'])\n",
    "# add new column source_normalized\n",
    "translations_pairs['source_normalized'] = translations_pairs['source'].apply(normalize_term)"
   ],
   "metadata": {
    "collapsed": false,
    "ExecuteTime": {
     "end_time": "2024-03-11T15:33:27.584916Z",
     "start_time": "2024-03-11T15:33:27.582586Z"
    }
   },
   "id": "dcc5172615de5796",
   "execution_count": 2
  },
  {
   "cell_type": "code",
   "outputs": [],
   "source": [
    "def find_exact_multiword_matching_terms(source_normalized, all_terms):\n",
    "    \"\"\"\n",
    "    Check if any term from all_terms, which may contain multiple words, is contained within the source_normalized text.\n",
    "    \"\"\"\n",
    "    # Initialize an empty list to store matching terms\n",
    "    matching_terms = []\n",
    "    # Iterate through each term in all_terms\n",
    "    for term in all_terms:\n",
    "        # Check if the term is fully contained in the source_normalized string\n",
    "        if ' ' + term + ' ' in ' ' + source_normalized + ' ':  # Adding spaces to catch full terms only\n",
    "            matching_terms.append(term)\n",
    "    return matching_terms\n",
    "\n",
    "\n",
    "\n",
    "# Applying the function to create the new column 'matching_terms'\n",
    "translations_pairs['matching_terms'] = translations_pairs['source_normalized'].apply(find_exact_multiword_matching_terms, args=(all_terms,))\n"
   ],
   "metadata": {
    "collapsed": false,
    "ExecuteTime": {
     "end_time": "2024-03-11T15:33:27.588134Z",
     "start_time": "2024-03-11T15:33:27.585615Z"
    }
   },
   "id": "c2cc574fe6135003",
   "execution_count": 3
  },
  {
   "cell_type": "code",
   "outputs": [],
   "source": [
    "# save the dataframe to a new excel file\n",
    "translations_pairs.to_excel('/Users/aligebesce/PycharmProjects/wikimedia-mt-analysis/src/translationpairs/mt_and_target_present_with_matching_terms.xlsx', index=False)"
   ],
   "metadata": {
    "collapsed": false,
    "ExecuteTime": {
     "end_time": "2024-03-11T15:33:27.590111Z",
     "start_time": "2024-03-11T15:33:27.588637Z"
    }
   },
   "id": "b3220d6c5e012a79",
   "execution_count": 4
  },
  {
   "cell_type": "code",
   "outputs": [],
   "source": [
    "# read the new excel file\n",
    "translations_pairs = pd.read_excel('/Users/aligebesce/PycharmProjects/wikimedia-mt-analysis/src/translationpairs/mt_and_target_present_with_matching_terms.xlsx')\n",
    "# get only if is_scientific is not null or empty\n",
    "translations_pairs = translations_pairs[translations_pairs['is_scientific'].notnull()]\n",
    "# create new column contains_term which is 0 if matching_terms is  \"[]\" and 1 if not\n",
    "translations_pairs['contains_term'] = translations_pairs['matching_terms'].apply(lambda x: 0 if x == \"[]\" else 1)"
   ],
   "metadata": {
    "collapsed": false,
    "ExecuteTime": {
     "end_time": "2024-03-11T15:33:27.593800Z",
     "start_time": "2024-03-11T15:33:27.592157Z"
    }
   },
   "id": "68f328ae04223bfe",
   "execution_count": 5
  },
  {
   "cell_type": "code",
   "outputs": [],
   "source": [
    "# save the dataframe to a new excel file\n",
    "translations_pairs.to_excel('/Users/aligebesce/PycharmProjects/wikimedia-mt-analysis/src/translationpairs/mt_and_target_present_with_matching_terms_scientific.xlsx', index=False)"
   ],
   "metadata": {
    "collapsed": false,
    "ExecuteTime": {
     "end_time": "2024-03-11T15:33:27.595915Z",
     "start_time": "2024-03-11T15:33:27.594363Z"
    }
   },
   "id": "5e39f54506a7bbb9",
   "execution_count": 6
  },
  {
   "cell_type": "code",
   "outputs": [],
   "source": [
    "# read the new excel file\n",
    "df = pd.read_excel('/Users/aligebesce/PycharmProjects/wikimedia-mt-analysis/src/translationpairs/example.xlsx')\n"
   ],
   "metadata": {
    "collapsed": false,
    "ExecuteTime": {
     "end_time": "2024-03-11T15:33:28.149028Z",
     "start_time": "2024-03-11T15:33:27.596462Z"
    }
   },
   "id": "ad4adaefed23bff2",
   "execution_count": 7
  },
  {
   "cell_type": "code",
   "outputs": [],
   "source": [
    "# Get only if contains_term is 1\n",
    "df = df[df['contains_term'] == 1]"
   ],
   "metadata": {
    "collapsed": false,
    "ExecuteTime": {
     "end_time": "2024-03-11T15:33:28.152744Z",
     "start_time": "2024-03-11T15:33:28.149995Z"
    }
   },
   "id": "8eadb753af851646",
   "execution_count": 8
  },
  {
   "cell_type": "code",
   "outputs": [],
   "source": [
    "# save the dataframe to a new excel file\n",
    "df.to_excel('/Users/aligebesce/PycharmProjects/wikimedia-mt-analysis/src/translationpairs/example_contains_term.xlsx', index=False)"
   ],
   "metadata": {
    "collapsed": false,
    "ExecuteTime": {
     "end_time": "2024-03-11T15:33:29.013176Z",
     "start_time": "2024-03-11T15:33:28.153421Z"
    }
   },
   "id": "2358fe53e8b40e78",
   "execution_count": 9
  }
 ],
 "metadata": {
  "kernelspec": {
   "display_name": "Python 3",
   "language": "python",
   "name": "python3"
  },
  "language_info": {
   "codemirror_mode": {
    "name": "ipython",
    "version": 2
   },
   "file_extension": ".py",
   "mimetype": "text/x-python",
   "name": "python",
   "nbconvert_exporter": "python",
   "pygments_lexer": "ipython2",
   "version": "2.7.6"
  }
 },
 "nbformat": 4,
 "nbformat_minor": 5
}
