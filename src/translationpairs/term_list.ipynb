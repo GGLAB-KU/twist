{
 "cells": [
  {
   "cell_type": "code",
   "id": "initial_id",
   "metadata": {
    "collapsed": true,
    "ExecuteTime": {
     "end_time": "2024-05-06T21:39:21.013635Z",
     "start_time": "2024-05-06T21:39:20.740673Z"
    }
   },
   "source": [
    "import pandas as pd"
   ],
   "outputs": [],
   "execution_count": 1
  },
  {
   "metadata": {
    "ExecuteTime": {
     "end_time": "2024-05-06T21:39:21.026256Z",
     "start_time": "2024-05-06T21:39:21.019293Z"
    }
   },
   "cell_type": "code",
   "source": [
    "# create a dataframe with columns tr and en\n",
    "df_yok = pd.DataFrame({'tr', 'source'})\n",
    "# add new instance\n",
    "en_1 = \"Organic field-effect transistors (OFETs), recently have been studied intensively for their usage as an electronic component in electronic circuits because of their flexibility and low production costs. In OFETs, besides the organic semiconductor, gate insulators are also important components since they have a high impact on the charge transport in the semiconductor-dielectric interface. Performance of the transistors can be improved significantly via adding compatible gate insulators in OFETs. In this regard, in order to enhance the parameter values of the OFETs, poly(methyl-acrylate (PMA) which was synthesized by chemist of our university and more flexible compared to the heavily used poly(methyl-methacrylate) (PMMA) in the literature was used as gate insulators in OFETs both as thin-film and gel states. Copolymers of the PMA (P18, P28, P29, and P30) were originally synthesized and obtained by adding particular amount of soybean oil to the methyl acrylate (MA) in the polymerization process. Even though coated thin-film PMA was proven to have a higher mobility and lower threshold voltage (VTH) compared to the coated PMMA thin-film, on-to-off current ratio (ION⁄IOFF) and subthreshold swing (SS) parameters were exhibited a lower performance since the higher gate leakage current (IOFF). Therefore, PMA and above-mentioned copolymers of the PMA were transformed into the gel state and used as gate insulators in order to decrease the IOFF and operating voltage of the devices. Consequently, it was demonstrated that operating voltage of the devices can be decreased in this way. Furthermore, relative dielectric constant of the gel dielectric can also be decreased by increasing the soybean oil to MA weight ratio in the polimerization process and it was proven that this led the enhancement of mobility. Moreover, it was shown that transforming the gate insulators into gel state lowers the value of IOFF. Besides all of that, it was shown that using the poly(3,4- ethylenedioxythiophene) polystyrene sulfonate (PEDOT:PSS) formulation as a gate electrode in designs enhanced the performance of the devices further. Finally, it can be said that by using above mentioned gate insulators and simple techniques, OFETs can be fabricated with a low budget and then they can be potentially used in electronic oscillator and inverter circuits.\"\n",
    "\n",
    "tr_1 = \"Organik alan-etkili transistörler (OFET'ler) esnek yapıları ve düşük üretim maliyetleri nedeniyle bir elektronik bileşen olarak elektronik devrelerde kullanılmak üzere son dönemde yoğun olarak çalışılmaktadır. OFET'lerde organik yarıiletkenin yanında kapı yalıtkanı da yarıiletken-dielektrik arayüzeyindeki yük taşınımını etkileyen bir etmen olması dolayısıyla çok önemli bir bileşendir. Uygun kapı yalıtkanlarının OFET'e eklenmesiyle transistörlerin performansı ciddi oranlarda yükselebilmektedir. Bu bağlamda, OFET'lerin elektronik parametre değerlerini iyileştirmek için üniversitemiz kimyacıları tarafından sentezlenen ve literatürde çok kullanılan poli(metil-metakıralat) (PMMA)'ya göre mekanik olarak esneklik avantajına sahip organik polimer poli(metilakrilat) (PMA) ince-film halinde ve polimerin jel haline getirilmesi vasıtasıyla jel halinde üretilen transistörlerde kapı yalıtkanı olarak kullanılmıştır. Ayrıca PMA polimerinin orjinal olarak sentezlenen dört adet kopolimeri de (P18, P28, P29 ve P30) polimerizasyon sürecinde metil akrilata (MA) belli oranlarda soya yağı eklenmesiyle elde edilmişdir. İnce-film halinde kaplanan PMA, PMMA'ya göre daha yüksek mobilite ve daha düşük eşik gerilimi (VTH) gibi bir özellik sergilese de akım açma-kapama oranı (ION⁄IOFF) ve eşikaltı salınımı (SS) gibi parametrelerde, yüksek kapı sızıntı akımından (IOFF) dolayı düşük performans göstermiştir. IOFF değerini ve transistörün çalışma voltajını düşürmek adına PMA ve yukarıda bahsedilen kopolimerleri jel haline getirilmiş ve OFET'lerde kapı yalıtkanı olarak kullanılmıştır. Sonuç olarak bu şekilde üretilen transistörlerle hem çalışma voltajlarının düşürülebildiği hem de kopolimerlerdeki polimerleşme sürecinde soya yağı MA oranının arttırılmasıyla jel dielektriklerin bağıl dielektrik katsayılarının düşürülebildiği ve bu sayede OFET'in en önemli parametrelerinden biri olan mobilitenin yükseltilebildiği görülmüştür. Dahası, kapı yalıtkanlarının jel haline getirilip kullanılmasıyla IOFF akımının da azaltılabileceği ispatlanmıştır. Bunların yanında şunu da belirtmek gerekir ki; poli(3,4-etilendioksitiyofen) polistren sülfonat (PEDOT:PSS) organik iletken formulasyonunun kapı elektrodu olarak tasarımlarda kullanılmasıyla cihazların performansının dahada yükselebildiği tespit edilmiştir. Son olarak, yukarıda bahsedilen kapı yalıtkanları ve teknikleri kullanılarak basit ve ucuz yöntemlerle üretilen OFET'lerin elektronik osilatör ve evirici gibi elektronik devrelerinde devre elemanı olarak kullanılma potansiyelinin olduğu söylenebilir.\"\n",
    "\n",
    "\n",
    "en_2 = \"Metaheuristic algorithms are recommended and frequently used methods for solving optimization problems. Today, it has been adapted to many challenging problems and its successes have been identified. Grey Wolf Optimization Algorithm (GWO) is one of the next generation metaheuristic methods. Due to its advantages, GWO has been proposed for the solution of many different problems since the day it emerged and has proven its success. In this thesis, a new variant of GWO, Binary Dynamic Grey Wolf Optimization Algorithm (IDGKO), is proposed for the solution of binary optimization problems. The difference of IDGKO from other binary GWO methods is that it uses the XOR logic-gate-based operator to convert the continuous search space to binary search space and is based on the dynamic coefficient method developed to determine the effect of the three dominant individuals (alpha, beta and delta) in the original GWO on the solution quality. that is. IDGKO is intended to be a simple, feasible and successful method that strikes a balance between local search and global search in solving binary optimization problems. In order to determine the success and accuracy of the proposed IDGKO, tests were carried out on the 0-1 backpack problem (0-1 KP), which is a member of the feature selection (FS) and NP-Hard problems, which are frequently mentioned in the literature. FS is one of the basic preprocessing steps in data mining and is among the difficult binary optimization problems. FS is the process of determining the subset that can best represent the dataset by removing features that have little impact from a given dataset without affecting performance and accuracy. 0-1 KP has an active role in many different areas and its main purpose is to use resources efficiently with high profit and low cost. The performance of the proposed method has been compared with the performance of many algorithms, including recent binary GWO algorithms and different metaheuristic methods for the related problem. In the experiments, many data sets of different sizes and features were used to determine the efficiency and consistency of the algorithm. As a result of the comparisons and statistical tests, the proposed IDGKO has proven to be an effective and successful method in line with its purpose.\"\n",
    "\n",
    "tr_2 = \"Metasezgisel algoritmalar, optimizasyon problemlerinin çözümü için önerilen ve sıklıkla kullanılan yöntemlerdir. Günümüzde birçok zorlu probleme uyarlanmış ve başarıları tespit edilmiştir. Gri Kurt Optimizasyon Algoritması (GWO), yeni nesil metasezgisel yöntemlerden biridir. GWO, avantajlarından dolayı ortaya çıktığı günden bu yana pek çok farklı sorunun çözümü için önerilmiş ve başarısını kanıtlamıştır. Bu tez çalışmasında, ikili optimizasyon problemlerinin çözümü için GWO'nun yeni bir varyantı olan İkili Dinamik Gri Kurt Optimizasyon Algoritması (IDGKO) önerilmiştir. IDGKO'nun diğer ikili GWO yöntemlerinden farkı, sürekli arama uzayını ikili arama uzayına dönüştürmek için XOR lojik-kapı tabanlı operatörü kullanması ve orijinal GWO'daki üç baskın bireyin (alfa, beta ve delta) çözüm kalitesi üzerindeki etkisini belirlemek için geliştirilen dinamik katsayı yöntemine dayalı olmasıdır. IDGKO'nun, ikili optimizasyon problemlerini çözmede yerel arama ile küresel arama arasında bir denge kuran basit, uygulanabilir ve başarılı bir yöntem olması amaçlanmıştır. Önerilen IDGKO'nun başarısını ve doğruluğunu belirlemek için literatürde adından sıkça söz ettiren özellik seçimi (FS) ve NP-Hard problemlerin bir üyesi olan 0-1 sırt çantası problemi (0-1 KP) üzerinde testler gerçekleştirilmiştir. FS, veri madenciliğinde temel ön işleme adımlarından biri olup zorlu ikili optimizasyon problemleri arasında yer almaktadır. FS, performansı ve doğruluğu etkilemeden belirli bir veri kümesinden çok az etkisi olan özellikleri kaldırarak veri kümesini en iyi temsil edebilecek alt kümeyi belirleme işlemidir. 0-1 KP birçok farklı alanda etkin bir role sahip olup temel amacı, yüksek kar ve düşük maliyetle kaynakların verimli bir şekilde kullanılmasıdır. Önerilen yöntemin performansı, ilgili problem için literatüre kazandırılmış yakın tarihli ikili GWO algoritmaları ve farklı metasezgisel yöntemler dahil olmak üzere birçok algoritmanın performansı ile karşılaştırılmıştır. Deneylerde algoritmanın etkinliği ve tutarlığını tespit etmek adına, farklı boyutta ve özellikte birçok veri seti kullanılmıştır. Yapılan kıyaslamalar ve istatistiksel testler sonucunda, önerilen IDGKO'nun amacına uygun olarak etkili ve başarılı bir yöntem olduğu kanıtlanmıştır.\"\n",
    "\n",
    "en_3=\"Galaxy clusters are the largest known cosmic structures in the universe. In these structures, where the dark matter effect is dominant, the intergalactic medium is filled with hot plasma that radiates in the X-ray band. The baryonic content of this plasma, on the other hand, consists of metals ejected between galaxies by supernova explosions, formed by star synthesis in member galaxies. These metals trapped in the deep potential well formed by the cluster environment provide information about the formation and chemical enrichment processes of the cluster and the supernova contributions in these processes. Current studies on this subject often focus on nearby galaxy clusters. This thesis study was carried out on a sample of 20 members, including distant galaxy clusters as well as nearby clusters. The metal abundance values of the region bounded by the R2500 area of the intra-cluster environment were measured by X-ray observations, and possible combinations of 3D supernovae that enrich the intergalactic medium were obtained with the SNeRatio package. Even if each galaxy cluster in the sample is chosen as spherically symmetrical and stationary, its internal dynamics are different from each other, taking this difference into account, two different supernova type Ia and type II model combinations were determined that are likely to explain the enrichment in all clusters. Highlighting a single model is not recommended in the literature, so model combinations 'N1600def & Z = 0.001' and 'N100H & Z=0.05' were chosen. Although this selection is not arbitrary, it was selected from a total of 186 model combinations using statistical methods. Possible correlations between the SN Ia percentages obtained with these models and the other measured values belonging to the clusters, especially the redshift, were examined. The fact that there is no correlation between the best and common measurable Fe abundance and the distance for all clusters in the sample indicates that there are no large differences in the amount of Fe, and this is an expected behavior in the literature. Although there is a moderate and weak correlation between the SN Ia percentages and the distance as the clusters move away, it is observed that both model percentages tend to decrease as a common behavior. When evaluated according to the ambient temperature in the cluster, both model combinations decrease significantly with increasing temperature, and these moderate and negative correlations are open to discussion. Although the interaction between the gas mass and the R2500 fields is weak, it is concluded that there is no significant correlation.\"\n",
    "\n",
    "tr_3 = \"Galaksi kümeleri, evrendeki bilinen en büyük kozmik yapılardır. Karanlık madde etkisinin dominant olduğu bu yapılarda, galaksiler arası ortam, X-ışını bandında ışıma yapan sıcak plazma ile doludur. Bu plazmanın baryonik içeriği ise üye galaksilerdeki yıldız sentezi ile meydana gelerek süpernova patlamaları ile galaksiler arasına püskürtülen metallerden oluşmaktadır. Küme ortamının oluşturduğu derin potansiyel kuyusu içerisinde hapsolmuş bu metaller, kümenin formasyonu ve kimyasal zenginleşme süreçleri ile bu süreçlerdeki süpernova katkıları hakkında bilgi vermektedir. Bu konudaki güncel çalışmalar sıklıkla yakın galaksi kümeleri üzerine odaklanmaktadır. Bu tez çalışması ise yakın kümeler ile birlikte uzak galaksi kümelerini de içeren 20 üyeli bir örneklem üzerinden yapılmıştır. Küme içi ortamın R2500 alanı ile sınırlandırılan bölgenin metal bolluk değerleri X-ışını gözlemleri ile ölçülmüştür, SNeRatio paketi ile de galaksiler arası ortamın zenginleşmesini sağlayan muhtemel 3D süpernova kombinasyonları elde edilmiştir. Örneklemdeki her bir galaksi kümesi, küresel simetrik ve durgun olarak seçilmiş olsa bile iç dinamikleri birbirlerinden farklıdır, bu farkı göz önünde bulundurarak tüm kümelerdeki zenginleşmeyi açıklaması muhtemel iki farklı süpernova tip Ia ve tip 'Core Collapse' model kombinasyonu belirlenmiştir. Tek bir modelin seçilerek öne çıkartılması literatürde tavsiye edilmeyen bir durumdur, bu nedenle 'N1600def & Z = 0.001' ve 'N100H & Z=0.05' model kombinasyonları seçilmiştir. Bu seçim keyfi olmamakla birlikte, istatistiki yöntemlerler kullanılarak toplam 186 model kombinasyonu arasından seçilmiştir. Bu modeller ile elde edilen SN Ia yüzdelik oranları ile, başta kırmızıya kayma olmak üzere kümelere ait ölçülen diğer değerler arasındaki muhtemel korelasyonlar incelenmiştir. Örneklemdeki tüm kümeler için en iyi ve ortak ölçülenbilen Fe bolus ile uzaklık arasında bir korelasyon olmaması, Fe miktarının büyük farklılıklar olmadığına işaret etmekletedir ve bu durum literatürde beklenen bir davranıştır. Kümeler uzaklaştıkça, SN Ia yüzdeleri ile uzaklık arasında orta ve zayıf derecede korelasyon görülse de, ortak davranış olarak her iki model yüzdelerinin de azalma eğilimnde olduğu gözlenmiştir. Küme içi ortam sıcaklığıa göre değerlendirildiğinde ise artan sıcaklık ile birlikte her iki model kombinasyonu da belirgin şekilde azalmaktadır, bu orta dereceli ve negatif yönlü korelasyonlar ise tartışmaya açıktır. Gaz kütlesi ve R2500 içindeki yoğunluk arasındaki etkileşim zayıf olmakla birlikte belirgin bir korelasyon olmadığı sonucuna ulaşılmıştır.\"\n",
    "\n",
    "\n",
    "en_4 = \"The Glutamate Decarboxylase(GAD) Pathway (GDP) is a major acid resistance mechanism that allows Lactic acid bacteria (LABs) to survive in low pH food environments. In the thesis, we aimed to study the molecular evolution and population genetics of GDP genes in LABs to understand evolutionary processes shaping adaptation to high acid environments by contrasting species where the GDP genes are organized as an operon structure (Levilactobacillus brevis) versus lack of an operon structure (Lactiplantibacillus plantarum). Intraspecies molecular population genetic analyses with GDP genes of L. brevis and L. plantarum from various environments revealed that synonymous and non-synonymous nucleotide diversity is driven mainly by low-frequency changes. Neutrality tests revealed mostly negative values indicating negative selection against replacement changes. Similarly, molecular structure and amino acid characteristic analyses showed that none of the replacement changes on the GDP genes alter the important residues of the proteins supporting negative selection against non-conservative amino acid changes. Interspecies analyses were used to identify the closely related LABs. Moreover, phylogenetic analyses showed that the GDP gene tree topologies differed from the LAB species tree, indicating divergent evolutionary histories. The functionally preserved two gad copies of the L. brevis grouped separate phylogenetic clades, showing that the origin of the second gad gene might be via horizontal gene transfer from a phylogenetically distant LAB species rather than gene duplication. In conclusion, GDP in LABs exhibits a dynamic molecular evolutionary history that enables organisms to thrive in high acid environments.\"\n",
    "\n",
    "tr_4 = \"Glutamat dekarboksilaz (GAD) yolağı (GDY) Laktik asit bakterilerinin (LAB) düşük pH'lı ortamlara adaptasyonunda oldukça önemli olan bir mekanizmadır. Tezde LAB'ların GDY genlerinin yüksek asitli ortamlara adaptasyonunu şekillendiren evrimsel süreçleri anlamak için, GDY genlerinin organizasyonu açısından farklı iki LAB türünün (L. brevis and L. plantarum) moleküler evrimi ve populasyon genetiği incelenmiştir. Çeşitli ortamlardan alınmış L. brevis ve L. plantarum GDY genleri ile yapılan tür içi moleküler popülasyon genetiği analizlerinde, nükleotit çeşitliliğinin esas olarak düşük frekanslı değişiklikler tarafından yönlendirildiği bulundu. Tarafsızlık teslerinden negatif seçilimi işaret eden sıfırdan küçük değerler elde edilmiştir. Benzer şekilde, GDY genlerinde tespit edilen amino asit değişimine yol açan mutasyonların negatif seçilimi işaret eder şekilde proteinlerin aktivitesini ve yapısını etkilemediği gözlenmiştir. Evrimsel açıdan yakın LAB türlerini belirlemek için türler arası filogenetik analizler kullanılmıştır. GDY genleri için oluşturlan gen ağaçlarının LAB tür ağacından topolojik olarak farklı olduğu görülmüştür.GAD geni gen ağacında L. brevis genomunda bulunan ve fonksiyonal olarak aktif iki GAD geninin farklı dallarda bulunmaktadır.Bu durum L. brevis'in ikinci GAD geninin gen duplikasyonu yerine yakın farklı bir türden gen aktarımı yolu ile alınmış olabileceğini göstermiştir. Sonuç olarak, LAB ların sahip olduğu GDY genlerinin organizmaların yüksek asitli ortamlara uyumunu sağlayan dinamik bir moleküler evrimsel geçmişi olduğu ortaya çıkarılmıştır.\"\n",
    "\n",
    "en_5 =\"Formic acid (FA) is an environmentally friendly hydrogen-based energy vector that can be obtained from renewable biomass feedstocks. However, catalytic decomposition of FA involves two different competing chemical pathways called dehydration and dehydrogenation. Thus, molecular level studies focusing on the selective catalytic FA dehydrogenation are essential for establishing structure-reactivity relationships which can be used in order to increase the catalytic dehydrogenation selectivity. In the current work, effects of Bronsted and Lewis bases on catalytic FA dehydrogenation selectivity were studied under ultra-high vacuum (UHV) conditions on an atomically well-defined Pd(111) single crystal model catalyst surface by using temperature programmed desorption/temperature programmed reaction spectroscopy (TPD/TPRS), X-Ray photoelectron spectroscopy (XPS) and low energy electron diffraction (LEED) techniques. Doubly-deuterated FA (DCOOD) was used as the FA source, while ammonia and manganese oxide were chosen as the model Bronsted and Lewis bases. Adsorption and subsequent surface decomposition reaction of DCOOD on Pd(111) showed that model catalyst was not totally selective towards dehydrogenation. Functionalizing the Pd(111) surface with ammonia suppressed the FA dehydration and boosted the dehydrogenation pathway, where positive influence of ammonia on FA dehydrogenation selectivity decayed when ammonia coverage was greater than 1 ML. A boost in hydrogen generation was observed in the catalytic FA dehydrogenation on manganese oxide-deposited Pd(111) surface (at sub-monolayer manganese oxide regime) as compared to that of a clean Pd(111) model catalyst. It was found out that manganese oxide can enhance FA dehydrogenation by acting as a promoter and/or catalytically contributing to the reaction depending on the oxidation state composition.\"\n",
    "\n",
    "tr_5 = \"Formik asit (FA) yenilenebilir biyokütle atıklarından elde edilebilen, çevre dostu bir hidrojen kaynağıdır. FA her ne kadar ümit verici bir alternatif hidrojen kaynağı olsa da; bu molekülün yan reaksiyonlar vermeye yatkın olması formik asitten yüksek verimlilikle hidrojen üretilebilmesi için dehidrejenasyon katalizörleri kullanmayı zorunlu bir hale getirmektedir. Bu bağlamda, katalitik FA parçalanması üzerine yoğunlaşan moleküler düzeydeki çalışmalar kimyasal yapı-reaktivite ilişkilerinin irdelenmesi ve buna paralel olarak, katalizörlerin FA dehidrejenasyon seçiciliklerinin arttırılması adına büyük önem taşımaktadır. Bu çalışmada, Bronsted ve Lewis bazlarının Pd(111) tek kristal model katalizörünün FA dehidrejenasyon seçiciliğine olan etkileri, sıcaklık programlı desorption/sıcaklık programlı reaksiyon spektroskopisi (TPD/TPRS), X-ışını fotoelektron spectroskopisi (XPS) ve düşük enerjili elektron kırınımı (LEED) teknikleri kullanılarak ultra-yüksek vakum (UHV) koşulları altında incelenmiştir. Çalışmalar sırasında, FA kaynağı olarak, her iki hidrojeni de izotopik olarak etiketlenmiş FA (DCOOD) kullanılırken; amonyak ve mangan oksit sırasıyla model Bronsted ve Lewis bazları olarak kullanılmıştır. DCOOD'nin Pd(111) yüzeyine adsorpsiyonu ve takiben yüzeyde verdiği dehidrasyon ve dehidrejenasyon reaksiyonları sonucunda katalizörün FA dehidrejenasyon seçiciliğinin %100 olmadığı saptanmıştır. Pd(111) yüzeyinin amonyakla işlevselleştirilmesi sonucunda; FA dehidrejenasyon seçiciliğinin arttırdığı ve dehidrasyon reaksiyonunun baskılandığı gözlemlenmiş ve amonyağın dehidrejenasyon seçiciliği üzerindeki pozitif etkisinin yüzeyde 1 ML'den (ML, tek katman) daha fazla amonyak bulunması durumunda azaldığı görülmüştür. Benzer bir şekilde; Pd(111) yüzeyinin 0.25 ML mertebesinde mangan oksitle kaplanması sonucunda, hidrojen üretiminin, temiz Pd(111) yüzeyine kıyasla, önemli şekilde arttığı görülmüştür. Bulgularımız, mangan oksitin oksidasyon duruma bağlı olarak, hidrojen üretimini hem FA'ın katalizör yüzeyiyle daha güçlü etkileşmesini sağlayarak (FA'ın yüzey adsorpsiyonunu ve yüzey yayılımını arttırarak), hem de katalitik olarak arttırabildiğini ortaya koymuştur.\"\n",
    "\n",
    "\n",
    "en_6 = \"We propose a two-layer machine learning (ML) approach, which utilizes an artificial neural network (ANN) model as a precursor for a deep reinforcement learning (DRL) model, to optimize task performance during human-robot co-manipulation of heavy objects. In the first layer, the ANN model estimates the human intention to accelerate or decelerate the object (which precedes the actual acceleration or deceleration of the object due to its large inertia). This probabilistic estimation is then used to calculate the gain of an adaptive admittance controller, which alters the robot's contribution to the task. In the second layer, the DRL model fine-tunes this gain and optimizes the task performance by minimizing the jerk in movement and the physical effort made by human. Since online training of a DRL model for a physical human-robot interaction (pHRI) task is highly time-consuming and can potentially be dangerous for the human due to abrupt changes in controller gain, a data-driven human force model was developed by a conditional variational auto-encoder (C-VAE) for offline training of the DRL model via simulations. For this purpose, experimental data was collected from six subjects under 3 different fixed gains of the admittance controller (minimum, nominal, and maximum) to train and validate the DRL model. The adaptive admittance gain profiles generated by the ANN model alone and the proposed two-layer approach (ANN + DRL) were compared through co-manipulation simulations. The results show that the gain profile obtained by the two-layer approach leads to a decrease in human effort and jerk compared to the initial profile provided by the ANN model.\"\n",
    "\n",
    "tr_6 = \"Ağır nesnelerin insan-robot birlikte manipülasyonu sırasında görev performansını optimize etmek için derin pekiştirmeli öğrenme (DPL) modelinin öncüsü olarak bir yapay sinir ağı (YSA) modeli kullanan iki aşamalı bir makine öğrenimi yaklaşımı öneriyoruz. İlk aşamada, YSA modeli, insanın nesneyi hızlandırma veya yavaşlatma niyetini tahmin eder (büyük eylemsizliği nedeniyle nesnenin gerçek hızlanmasından veya yavaşlamasından önce gelir). Bu olasılıksal tahmin daha sonra robotun göreve katkısını değiştiren uyarlanabilir bir giriş kontrolörünün kazancını hesaplamak için kullanılır. İkinci aşamada, DPL modeli bu kazanca ince ayar yapar ve hareketteki sarsıntıyı ve insan tarafından harcanan fiziksel çabayı en aza indirerek görev performansını optimize eder. Fiziksel insan-robot etkileşimi görevi için bir DPL modelinin çevrimiçi eğitimi oldukça zaman alıcı olduğundan ve kontrolör kazancındaki ani değişiklikler nedeniyle insan için potansiyel olarak tehlikeli olabileceğinden, DPL modelinin simülasyonlar yoluyla çevrimdışı eğitimi için koşullu varyasyonel otomatik kodlayıcı ile veriye dayalı bir insan kuvveti modeli geliştirilmiştir. Bu amaçla, DPL modelini eğitmek ve doğrulamak için admitans kontrolörünün 3 farklı sabit kazancı (minimum, nominal ve maksimum) altında altı denekten deneysel veriler toplanmıştır. Tek başına YSA modeli ve önerilen iki aşamalı yaklaşım (YSA + DPL) tarafından üretilen uyarlanabilir admitans kazanç profilleri, birlikte manipülasyon simülasyonları aracılığıyla karşılaştırılmıştır. Sonuçlar, iki aşamalı yaklaşımla elde edilen kazanç profilinin, YSA modeli tarafından sağlanan başlangıç profiline kıyasla insan çabasında ve sarsıntıda bir azalmaya yol açtığını göstermektedir.\"\n",
    "\n",
    "\n"
   ],
   "id": "9b2248076f39fb1f",
   "outputs": [],
   "execution_count": 2
  },
  {
   "metadata": {
    "ExecuteTime": {
     "end_time": "2024-05-06T21:39:21.028754Z",
     "start_time": "2024-05-06T21:39:21.026958Z"
    }
   },
   "cell_type": "code",
   "source": "df_yok = pd.DataFrame({'tr': [tr_1, tr_2, tr_3, tr_4, tr_5, tr_6], 'source': [en_1, en_2, en_3, en_4, en_5, en_6]})",
   "id": "ab6f54eb518a5e09",
   "outputs": [],
   "execution_count": 3
  },
  {
   "cell_type": "code",
   "source": [
    "df = pd.read_excel('/Users/aligebesce/PycharmProjects/wikimedia-mt-analysis/src/terimlervswiki/terms/terimler_org/terimler_org_all.xlsx')\n",
    "df = df[df['number_of_en'] != 0]\n",
    "en_terms = df['en'].values\n",
    "en_terms = [str(en) for en in en_terms]\n",
    "\n",
    "all_terms = []\n",
    "for en in en_terms:\n",
    "    if ';' in en:\n",
    "        en = en.split(';')\n",
    "        all_terms.extend(en)\n",
    "    else:\n",
    "        all_terms.append(en)\n",
    "\n",
    "# trim whitespaces at the beginning and end\n",
    "all_terms = [en.strip() for en in all_terms]\n",
    "\n",
    "# lower all the letters\n",
    "all_terms = [en.lower() for en in all_terms]\n",
    "\n",
    "# normalize all: \n",
    "def normalize_term(term):\n",
    "    \"\"\"Normalize special characters in a term and return its URL part.\"\"\"\n",
    "    replacements = {\"â\": \"a\", 'ç': 'c', 'ğ': 'g', 'ı': 'i', 'ö': 'o', 'ş': 's', 'ü': 'u', 'Ç': 'C', 'Ğ': 'G', 'İ': 'I',\n",
    "                    'Ö': 'O', 'Ş': 'S', 'Ü': 'U', \"'\": \"\", \"’\": \"\", }\n",
    "    # replace all punctiation with empty string\n",
    "    term = term.translate(str.maketrans('', '', '!\"#$%&\\'()*+,-./:;<=>?@[\\\\]^_`{|}~')).lower()\n",
    "    return term.translate(str.maketrans(replacements))\n",
    "\n",
    "all_terms = [normalize_term(en) for en in all_terms]\n",
    "all_terms = [term for term in all_terms if term != ' ' and term != '']\n",
    "all_terms = set(all_terms)\n",
    "\n",
    "# drop nan values\n",
    "df_yok = df_yok.dropna(subset=['source'])\n",
    "# add new column source_normalized\n",
    "df_yok['source_normalized'] = df_yok['source'].apply(normalize_term)"
   ],
   "metadata": {
    "collapsed": false,
    "ExecuteTime": {
     "end_time": "2024-05-06T21:39:26.576335Z",
     "start_time": "2024-05-06T21:39:21.029362Z"
    }
   },
   "id": "dcc5172615de5796",
   "outputs": [],
   "execution_count": 4
  },
  {
   "cell_type": "code",
   "source": [
    "def find_exact_multiword_matching_terms(source_normalized, all_terms):\n",
    "    \"\"\"\n",
    "    Check if any term from all_terms, which may contain multiple words, is contained within the source_normalized text.\n",
    "    \"\"\"\n",
    "    # Initialize an empty list to store matching terms\n",
    "    matching_terms = []\n",
    "    # Iterate through each term in all_terms\n",
    "    for term in all_terms:\n",
    "        # Check if the term is fully contained in the source_normalized string\n",
    "        if ' ' + term + ' ' in ' ' + source_normalized + ' ':  # Adding spaces to catch full terms only\n",
    "            matching_terms.append(term)\n",
    "    return matching_terms\n",
    "\n",
    "# Applying the function to create the new column 'matching_terms'\n",
    "df_yok['matching_terms'] = df_yok['source_normalized'].apply(find_exact_multiword_matching_terms, args=(all_terms,))"
   ],
   "metadata": {
    "collapsed": false,
    "ExecuteTime": {
     "end_time": "2024-05-06T21:39:27.181042Z",
     "start_time": "2024-05-06T21:39:26.578015Z"
    }
   },
   "id": "c2cc574fe6135003",
   "outputs": [],
   "execution_count": 5
  },
  {
   "cell_type": "code",
   "source": "df_yok.to_csv('yok.csv', index=False)",
   "metadata": {
    "collapsed": false,
    "ExecuteTime": {
     "end_time": "2024-05-06T21:39:27.186653Z",
     "start_time": "2024-05-06T21:39:27.181789Z"
    }
   },
   "id": "b3220d6c5e012a79",
   "outputs": [],
   "execution_count": 6
  },
  {
   "cell_type": "code",
   "source": "",
   "metadata": {
    "collapsed": false,
    "ExecuteTime": {
     "end_time": "2024-05-06T21:39:27.188520Z",
     "start_time": "2024-05-06T21:39:27.187308Z"
    }
   },
   "id": "5e39f54506a7bbb9",
   "outputs": [],
   "execution_count": 6
  },
  {
   "cell_type": "code",
   "source": "",
   "metadata": {
    "collapsed": false,
    "ExecuteTime": {
     "end_time": "2024-05-06T21:39:27.190400Z",
     "start_time": "2024-05-06T21:39:27.189106Z"
    }
   },
   "id": "ad4adaefed23bff2",
   "outputs": [],
   "execution_count": 6
  },
  {
   "cell_type": "code",
   "source": "",
   "metadata": {
    "collapsed": false,
    "ExecuteTime": {
     "end_time": "2024-05-06T21:39:27.192010Z",
     "start_time": "2024-05-06T21:39:27.190918Z"
    }
   },
   "id": "8eadb753af851646",
   "outputs": [],
   "execution_count": 6
  },
  {
   "cell_type": "code",
   "source": "",
   "metadata": {
    "collapsed": false,
    "ExecuteTime": {
     "end_time": "2024-05-06T21:39:27.193755Z",
     "start_time": "2024-05-06T21:39:27.192577Z"
    }
   },
   "id": "2358fe53e8b40e78",
   "outputs": [],
   "execution_count": 6
  }
 ],
 "metadata": {
  "kernelspec": {
   "display_name": "Python 3",
   "language": "python",
   "name": "python3"
  },
  "language_info": {
   "codemirror_mode": {
    "name": "ipython",
    "version": 2
   },
   "file_extension": ".py",
   "mimetype": "text/x-python",
   "name": "python",
   "nbconvert_exporter": "python",
   "pygments_lexer": "ipython2",
   "version": "2.7.6"
  }
 },
 "nbformat": 4,
 "nbformat_minor": 5
}
