{
 "cells": [
  {
   "metadata": {},
   "cell_type": "code",
   "source": [
    "# read all csv files in the directory called \"results\"\n",
    "import pandas as pd\n",
    "import os\n",
    "import glob\n",
    "\n",
    "# Get the current working directory\n",
    "current_directory = os.getcwd()\n",
    "\n",
    "# Get the path to the \"results\" directory\n",
    "results_directory = os.path.join(current_directory, \"results\")\n",
    "# Get all csv files in the \"results\" directory\n",
    "csv_files = glob.glob(os.path.join(results_directory, \"*.csv\"))\n",
    "# Read all csv files into a list of dataframes\n",
    "dataframes = []\n",
    "for file in csv_files:\n",
    "    df = pd.read_csv(file)\n",
    "    dataframes.append(df)\n",
    "# Concatenate all dataframes into a single dataframe\n",
    "df = pd.concat(dataframes, ignore_index=True)\n"
   ],
   "id": "bade7a69d7aba5fa",
   "outputs": [],
   "execution_count": null
  },
  {
   "metadata": {},
   "cell_type": "code",
   "source": "df.columns",
   "id": "8cc9c452d45a7942",
   "outputs": [],
   "execution_count": null
  },
  {
   "metadata": {},
   "cell_type": "code",
   "source": [
    "# Print stats for each column numerically\n",
    "for col in df.columns:\n",
    "    print(f\"{col}: {df[col].dtype}\")\n",
    "    if df[col].dtype != \"object\":\n",
    "        print(f\"Sum: {df[col].sum()}\")"
   ],
   "id": "51eaf13e60013bc2",
   "outputs": [],
   "execution_count": null
  },
  {
   "metadata": {},
   "cell_type": "code",
   "source": "",
   "id": "c9430fe4fabcc5f1",
   "outputs": [],
   "execution_count": null
  }
 ],
 "metadata": {
  "kernelspec": {
   "display_name": "Python 3",
   "language": "python",
   "name": "python3"
  },
  "language_info": {
   "codemirror_mode": {
    "name": "ipython",
    "version": 2
   },
   "file_extension": ".py",
   "mimetype": "text/x-python",
   "name": "python",
   "nbconvert_exporter": "python",
   "pygments_lexer": "ipython2",
   "version": "2.7.6"
  }
 },
 "nbformat": 4,
 "nbformat_minor": 5
}
