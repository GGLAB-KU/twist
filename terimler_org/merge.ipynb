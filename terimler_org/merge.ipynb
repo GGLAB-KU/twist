{
 "cells": [
  {
   "cell_type": "code",
   "id": "initial_id",
   "metadata": {
    "collapsed": true
   },
   "source": [
    "# merge all xlsx files in the inputs directory\n",
    "import pandas as pd\n",
    "import os\n",
    "from tqdm import tqdm\n",
    "import glob\n",
    "\n",
    "# Parameters\n",
    "input_dir  = \"inputs\"\n",
    "output_file = \"merged.xlsx\"\n",
    "# Get all xlsx files in the input directory\n",
    "\n",
    "\n",
    "input_files = glob.glob(os.path.join(input_dir, \"*.xlsx\"))\n",
    "# Check if there are any files to merge\n",
    "if not input_files:\n",
    "    raise ValueError(f\"No xlsx files found in {input_dir}\")\n",
    "# Read and merge all files\n",
    "dfs = []\n",
    "for input_file in tqdm(input_files, desc=\"Reading files\"):\n",
    "    df = pd.read_excel(input_file)\n",
    "    dfs.append(df)\n",
    "# Concatenate all dataframes\n",
    "df_merged = pd.concat(dfs, ignore_index=True)\n",
    "# Save the merged dataframe to an xlsx file\n",
    "df_merged.to_excel(output_file, index=False)\n",
    "print(f\"Merged {len(input_files)} files into {output_file}\")\n"
   ],
   "outputs": [],
   "execution_count": null
  }
 ],
 "metadata": {
  "kernelspec": {
   "display_name": "Python 3",
   "language": "python",
   "name": "python3"
  },
  "language_info": {
   "codemirror_mode": {
    "name": "ipython",
    "version": 2
   },
   "file_extension": ".py",
   "mimetype": "text/x-python",
   "name": "python",
   "nbconvert_exporter": "python",
   "pygments_lexer": "ipython2",
   "version": "2.7.6"
  }
 },
 "nbformat": 4,
 "nbformat_minor": 5
}
